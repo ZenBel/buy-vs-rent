{
 "cells": [
  {
   "cell_type": "code",
   "execution_count": 1,
   "metadata": {},
   "outputs": [],
   "source": [
    "from buyhouse import BuyHouse"
   ]
  },
  {
   "cell_type": "markdown",
   "metadata": {},
   "source": [
    "### Insert variables\n",
    "\n",
    "- `market_price`: the price which you expect to pay for the house, i.e. listed price + overbidding + notary and other one-off transactional costs.\n",
    "- `mortgage_downpayment`: the downpayment you expect to put on your mortgage.\n",
    "- `mortgage_interests`: the interest on your mortgage in percentage, e.g. $5\\%$. The interest is assumed to be fixed for the whole loan term.\n",
    "- `mortgage_term`: the years that will take you to repay the mortgage.\n",
    "- `sqm`: the square meteres of the house you want to buy (used to calculate maintenance costs).\n",
    "- `maintenance_cost`: the maintenance cost per sqm of your house.\n",
    "- `property_tax`: the annual property tax on your house.\n",
    "- `return_sp`: the expected avg. annual return of the S&P500 (or any other index fund of your choice) over the `mortgage_term`.\n",
    "- `return_ret`: the expected avg. annual return of real estate investements in the area where you are planning to buy over the `mortgage_term`."
   ]
  },
  {
   "cell_type": "code",
   "execution_count": 2,
   "metadata": {},
   "outputs": [],
   "source": [
    "buy = BuyHouse(\n",
    "    market_price=600000, \n",
    "    mortgage_downpayment=0,\n",
    "    mortgage_interests=5,\n",
    "    mortgage_term=30,\n",
    "    sqm=80, \n",
    "    maintenance_cost=50,\n",
    "    property_tax=None, \n",
    "    return_sp=6,\n",
    "    return_ret=7\n",
    ")"
   ]
  },
  {
   "cell_type": "markdown",
   "metadata": {},
   "source": [
    "### Compute monthly unrecoverable costs\n",
    "\n",
    "The money your throw down the toilet every month for owning a house."
   ]
  },
  {
   "cell_type": "code",
   "execution_count": 3,
   "metadata": {},
   "outputs": [
    {
     "name": "stdout",
     "output_type": "stream",
     "text": [
      "Avg. annual property tax cost: 240.00.\n",
      "Avg. annual maintenance cost: 4000.00.\n",
      "Avg. annual cost of equity capital: -0.00.\n",
      "Avg. annual cost of debt capital: 18651.16.\n",
      "\n",
      "Total monthly unrecoverable costs: 1907.60.\n",
      "\n",
      "For you the 3.82% rule holds!\n"
     ]
    }
   ],
   "source": [
    "buy.get_overview(how=\"monthly\")"
   ]
  },
  {
   "cell_type": "markdown",
   "metadata": {},
   "source": [
    "If you can rent a similar house for less than thet total monthly unrecoverable costs of owning a house then it is a wiser financial decision to rent, otherwise it is better to buy."
   ]
  }
 ],
 "metadata": {
  "kernelspec": {
   "display_name": "Python 3.9.13 ('buyrent')",
   "language": "python",
   "name": "python3"
  },
  "language_info": {
   "codemirror_mode": {
    "name": "ipython",
    "version": 3
   },
   "file_extension": ".py",
   "mimetype": "text/x-python",
   "name": "python",
   "nbconvert_exporter": "python",
   "pygments_lexer": "ipython3",
   "version": "3.9.13"
  },
  "orig_nbformat": 4,
  "vscode": {
   "interpreter": {
    "hash": "311826a7629aca51c2c1033c14d99bcb5922f77862e851c2b86be87b38c85098"
   }
  }
 },
 "nbformat": 4,
 "nbformat_minor": 2
}
