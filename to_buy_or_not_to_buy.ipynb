{
 "cells": [
  {
   "cell_type": "code",
   "execution_count": null,
   "metadata": {},
   "outputs": [],
   "source": [
    "%load_ext autoreload\n",
    "%autoreload 2\n",
    "import numpy as np\n",
    "from src.rentorbuy import RentOrBuy\n",
    "from src.asset import annual_to_monthly_stdev, annual_to_monthly_return"
   ]
  },
  {
   "cell_type": "markdown",
   "metadata": {},
   "source": [
    "### Insert variables\n",
    "- `monthly_rent`: the monthly rent of an apartment similar to the one you want to buy.\n",
    "- `house_price`: the price which you expect to pay for the house, i.e. listed price + overbid.\n",
    "- `additional_monthly_costs`: any additional costs of ownership, e.g. condo fees.\n",
    "- `additional_purchase_costs`: They include legal fees, title insurance, home inspection, home appraisal, etc.\n",
    "- `down_payment`: the downpayment you expect to put on your mortgage.\n",
    "- `mortgage_apr`: the interest on your mortgage in percentage, e.g. $5\\%$ (including fees). The interest is assumed to be fixed for the whole loan term.\n",
    "- `mortgage_amortization_years`: the years that will take you to repay the mortgage.\n",
    "- `mortgage_additional_payments`: the monthly additional amount that you intend to use to repay your mortgage.\n",
    "- `maintenance_cost`: the yearly maintenance costs as a percentage of the `house_price`.\n",
    "- `monthly_property_tax_rate`: the monthly property tax on your house (annual property tax divided by 12).\n",
    "- `annual_inflation`: the expected avg. annual rate of inflation over the term of the loan.\n",
    "- `return_ret`: the expected avg. annual return of real estate investements in the area where you are planning to buy over the `mortgage_term`.\n",
    "\n",
    "- `housing_asset_dict`: distribution of expected monthly returns on real estate (e.g. based on historical data).\n",
    "- `investment_asset_dict`: distribution of expected monthly returns on alternative investment to real estate (e.g. low cost index fund)."
   ]
  },
  {
   "cell_type": "markdown",
   "metadata": {},
   "source": [
    "### TODO\n",
    "- Take into account tax discount on mortgage interest and purchase costs\n",
    "- Take into account costs of selling the house\n",
    "- Improve visualization"
   ]
  },
  {
   "cell_type": "code",
   "execution_count": null,
   "metadata": {},
   "outputs": [],
   "source": [
    "mgt = RentOrBuy(\n",
    "    monthly_rent=2000,\n",
    "    house_price=565000,\n",
    "    woz_value=550000,\n",
    "    eigenwoningforfait=0.0045, \n",
    "    down_payment=0,\n",
    "    mortgage_amortization_years=30,\n",
    "    mortgage_apr=0.045,\n",
    "    additional_purchase_costs=20000,\n",
    "    additional_monthly_costs=300,\n",
    "    mortgage_additional_payments=0,\n",
    "    annual_inflation=0.02,\n",
    "    monthly_property_tax_rate=0.000042,\n",
    "    maintenance_cost=0.01,\n",
    "    housing_asset_dict={\n",
    "        \"dist\": np.random.normal, \n",
    "        \"dist_args\": {\n",
    "            \"loc\": annual_to_monthly_return(0.0735), \n",
    "            \"scale\":  annual_to_monthly_stdev(0.0860)}\n",
    "    },\n",
    "    investment_asset_dict={\n",
    "        \"dist\": np.random.normal, \n",
    "        \"dist_args\": {\n",
    "            \"loc\": annual_to_monthly_return(0.1195), \n",
    "            \"scale\":  annual_to_monthly_stdev(0.198)}\n",
    "    },\n",
    "    number_of_simulations=10000,\n",
    "\n",
    ")"
   ]
  },
  {
   "cell_type": "code",
   "execution_count": null,
   "metadata": {},
   "outputs": [],
   "source": [
    "mgt.histogram(period=60)"
   ]
  },
  {
   "cell_type": "code",
   "execution_count": null,
   "metadata": {},
   "outputs": [],
   "source": [
    "mgt.median_returns_plot()"
   ]
  },
  {
   "cell_type": "code",
   "execution_count": null,
   "metadata": {},
   "outputs": [],
   "source": [
    "mgt.mortgage_df"
   ]
  },
  {
   "cell_type": "code",
   "execution_count": null,
   "metadata": {},
   "outputs": [],
   "source": []
  }
 ],
 "metadata": {
  "kernelspec": {
   "display_name": "Python 3.9.13 ('buyrent')",
   "language": "python",
   "name": "python3"
  },
  "language_info": {
   "codemirror_mode": {
    "name": "ipython",
    "version": 3
   },
   "file_extension": ".py",
   "mimetype": "text/x-python",
   "name": "python",
   "nbconvert_exporter": "python",
   "pygments_lexer": "ipython3",
   "version": "3.9.13"
  },
  "orig_nbformat": 4,
  "vscode": {
   "interpreter": {
    "hash": "311826a7629aca51c2c1033c14d99bcb5922f77862e851c2b86be87b38c85098"
   }
  }
 },
 "nbformat": 4,
 "nbformat_minor": 2
}
